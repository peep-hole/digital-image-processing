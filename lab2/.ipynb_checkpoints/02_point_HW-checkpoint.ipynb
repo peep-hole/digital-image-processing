{
 "cells": [
  {
   "cell_type": "markdown",
   "metadata": {},
   "source": [
    "# Zadanie domowe\n",
    "\n",
    "W przypadku obrazów w odcieniach szarości pojedynczy piksel z zakresu [0; 255] reprezentowany jest jako 8-bitowa liczba bez znaku.\n",
    "Pewnym rozszerzeniem analizy sposobu reprezentacji obrazu może być następujący eksperyment.\n",
    "Załóżmy, że z każdego z 8 bitów możemy stworzyć pojedynczy obraz binarny (ang. _bit-plane slicing_).\n",
    "Dla obrazka _100zloty.jpg_ (https://raw.githubusercontent.com/vision-agh/poc_sw/master/02_Point/100zloty.jpg) stwórz 8 obrazów, z których każdy powinien zawierać jedną płaszczyznę bitową.\n",
    "Podpowiedź $-$ warto sprawdzić, jak realizuje się bitowe operacje logiczne.\n",
    "Zastosowanie takiej dekompozycji obrazu pozwala na analizę ,,ważności'' poszczególnych bitów.\n",
    "Jest to użyteczne w kwantyzacji, ale także w kompresji.\n",
    "\n",
    "W drugim etapie zadania proszę spróbować odtworzyć obraz oryginalny z mniejszej liczby obrazów binarnych.\n",
    "Warto zacząć od dwóch najbardziej znaczących bitów, a później dodawać kolejne.\n",
    "Należy utworzyć co najmniej trzy wersje zrekonstruowanych obrazów.\n",
    "Podpowiedź $-$ rekonstrukcja obrazu to mnożenie przez odpowiednią potęgę liczby 2 (przesunięcie bitowe) oraz dodawanie."
   ]
  },
  {
   "cell_type": "code",
   "execution_count": null,
   "metadata": {},
   "outputs": [],
   "source": [
    "!wget https://raw.githubusercontent.com/vision-agh/poc_sw/master/02_Point/100zloty.jpg"
   ]
  },
  {
   "cell_type": "code",
   "execution_count": null,
   "metadata": {},
   "outputs": [],
   "source": [
    "import matplotlib.pyplot as plt\n",
    "import cv2"
   ]
  },
  {
   "cell_type": "code",
   "execution_count": null,
   "metadata": {
    "tags": []
   },
   "outputs": [],
   "source": [
    "zloty = plt.imread(\"100zloty.jpg\")\n",
    "zloty = cv2.cvtColor(zloty, cv2.COLOR_BGR2GRAY)\n",
    "plt.imshow(zloty, cmap='gray')"
   ]
  },
  {
   "cell_type": "code",
   "execution_count": null,
   "metadata": {
    "tags": []
   },
   "outputs": [],
   "source": [
    "def get_n_bit_from_x_number(n, x):\n",
    "    bin_x = bin(x)[2:]\n",
    "    bin_x = (8-len(bin_x)) * '0' + bin_x\n",
    "\n",
    "    return int(bin_x[7-n])\n",
    "\n",
    "# 847 x 1661\n",
    "    \n",
    "bit_pics = [[[0 for _j in range(1661)] for _i in range(847)] for _ in range(8)]\n",
    "\n",
    "for i, l in enumerate(zloty):\n",
    "    for j, p in enumerate(l):\n",
    "        for k in range(8):\n",
    "            bit_pics[k][i][j] = get_n_bit_from_x_number(k, p)\n",
    "               \n",
    "\n",
    "f, (ax0, ax1, ax2, ax3, ax4, ax5, ax6, ax7, ax8) = plt.subplots(9, 1, figsize=(30,30))\n",
    "    \n",
    "ax0.imshow(zloty, cmap='gray')\n",
    "ax1.imshow(bit_pics[0], cmap=plt.cm.binary)\n",
    "ax2.imshow(bit_pics[1], cmap=plt.cm.binary)\n",
    "ax3.imshow(bit_pics[2], cmap=plt.cm.binary)\n",
    "ax4.imshow(bit_pics[3], cmap=plt.cm.binary)\n",
    "ax5.imshow(bit_pics[4], cmap=plt.cm.binary)\n",
    "ax6.imshow(bit_pics[5], cmap=plt.cm.binary)\n",
    "ax7.imshow(bit_pics[6], cmap=plt.cm.binary)\n",
    "ax8.imshow(bit_pics[7], cmap=plt.cm.binary)\n",
    "\n",
    "plt.plot()\n",
    "\n",
    "# plt.imshow(zloty)"
   ]
  },
  {
   "cell_type": "code",
   "execution_count": null,
   "metadata": {
    "tags": []
   },
   "outputs": [],
   "source": [
    "rek1 = [[0 for _j in range(1661)] for _i in range(847)]\n",
    "\n",
    "for i, l in enumerate(zloty):\n",
    "    for j, p in enumerate(l):\n",
    "        rek1[i][j] = ((bit_pics[7][i][j] << 1) + bit_pics[6][i][j]) << 6\n",
    "        \n",
    "plt.imshow(rek1, cmap='gray')"
   ]
  },
  {
   "cell_type": "code",
   "execution_count": null,
   "metadata": {
    "tags": []
   },
   "outputs": [],
   "source": [
    "rek2 = [[0 for _j in range(1661)] for _i in range(847)]\n",
    "\n",
    "for i, l in enumerate(zloty):\n",
    "    for j, p in enumerate(l):\n",
    "        rek2[i][j] = ((((bit_pics[7][i][j] << 1) + bit_pics[6][i][j]) << 1) + bit_pics[5][i][j]) << 5\n",
    "        \n",
    "plt.imshow(rek2, cmap='gray')"
   ]
  },
  {
   "cell_type": "code",
   "execution_count": null,
   "metadata": {
    "tags": []
   },
   "outputs": [],
   "source": [
    "rek3 = [[0 for _j in range(1661)] for _i in range(847)]\n",
    "\n",
    "for i, l in enumerate(zloty):\n",
    "    for j, p in enumerate(l):\n",
    "        rek3[i][j] = ((((((bit_pics[7][i][j] << 1) + bit_pics[6][i][j]) << 1) + bit_pics[5][i][j]) << 1 ) + bit_pics[4][i][j]) << 4\n",
    "        \n",
    "plt.imshow(rek3, cmap='gray')"
   ]
  },
  {
   "cell_type": "code",
   "execution_count": null,
   "metadata": {},
   "outputs": [],
   "source": []
  }
 ],
 "metadata": {
  "kernelspec": {
   "display_name": "Python 3",
   "language": "python",
   "name": "python3"
  },
  "language_info": {
   "codemirror_mode": {
    "name": "ipython",
    "version": 3
   },
   "file_extension": ".py",
   "mimetype": "text/x-python",
   "name": "python",
   "nbconvert_exporter": "python",
   "pygments_lexer": "ipython3",
   "version": "3.8.10"
  }
 },
 "nbformat": 4,
 "nbformat_minor": 4
}
