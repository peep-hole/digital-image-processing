{
 "cells": [
  {
   "cell_type": "markdown",
   "id": "iraqi-machinery",
   "metadata": {},
   "source": [
    "# Przekształcenia punktowe\n",
    "### - zależą jedynie od wybranego punktu, a nie od sąsiadów (jak kontekstowe)\n",
    "\n",
    "- Logiczne\n",
    "- Arytmetyczne\n",
    "- Look-up table\n",
    "- Wyrównanie histogramu\n",
    "- Binaryzacja\n",
    "\n",
    "##### Operacje jednoargumentowe\n",
    "##### Operacje dwuargumentowe\n"
   ]
  },
  {
   "cell_type": "markdown",
   "id": "retained-caution",
   "metadata": {},
   "source": [
    "## Operacje logiczne\n",
    "\n",
    "- not \n",
    "- and\n",
    "- or\n",
    "- sub - róznica logiczna\n",
    "- xor\n",
    "- xnor\n",
    "\n",
    "## Operacje arytmetyczne\n",
    "\n",
    "- dodawanie dwóch obrazów (problemem może być wyjście poza skalę)\n",
    "- odjęcie dwóch obrazów ( -//- )\n",
    "- przemnozenie dwóch obrazów\n",
    "- kombinacja liniowa dwóch obrazów f_3(x) = p*f_1(x) + (1-p)*f_2(x) <- gwarantuje, że nie wyjdziemy poza skalę\n",
    "- przemnożenie obrazu przez stałą (służy do rozjaśniania/wzmocnienia kontrastu obrazu)\n",
    "\n",
    "## Look-up table\n",
    "\n",
    "- zmienianie wartości pikseli według tablicy przejścia (tablice korekcji) (look-up table)\n",
    "\n",
    "## Wyrównywanie histogramu\n",
    "\n",
    "- używany gdy histogram rozkładu jasności barw jest skondensowany, polega na przeskalowaniu tych wartości\n",
    "- używany jest do tego czterokrokowy algorytm równoważenia histogramu: \n",
    "    - 1. Obliczenie histogramu skumuluwanego\n",
    "    - 2. Normalizacja elementów histogramu skumulowanego przez poddzielenie ich przez liczbę pikseli w obrazie (operujemy na liczbach rzeczywistych)\n",
    "    - 3. Przemnożenie wartości otrzymanych w kroku deugim orzez maksymalna"
   ]
  },
  {
   "cell_type": "code",
   "execution_count": null,
   "id": "southeast-quantity",
   "metadata": {},
   "outputs": [],
   "source": []
  }
 ],
 "metadata": {
  "kernelspec": {
   "display_name": "Python 3",
   "language": "python",
   "name": "python3"
  },
  "language_info": {
   "codemirror_mode": {
    "name": "ipython",
    "version": 3
   },
   "file_extension": ".py",
   "mimetype": "text/x-python",
   "name": "python",
   "nbconvert_exporter": "python",
   "pygments_lexer": "ipython3",
   "version": "3.8.10"
  }
 },
 "nbformat": 4,
 "nbformat_minor": 5
}
